{
  "nbformat": 4,
  "nbformat_minor": 0,
  "metadata": {
    "colab": {
      "provenance": []
    },
    "kernelspec": {
      "name": "python3",
      "display_name": "Python 3"
    },
    "language_info": {
      "name": "python"
    }
  },
  "cells": [
    {
      "cell_type": "code",
      "execution_count": 1,
      "metadata": {
        "colab": {
          "base_uri": "https://localhost:8080/"
        },
        "id": "lQP3CYBO3Neo",
        "outputId": "69efafa8-673c-4c4a-c79f-fce3db59fe3d"
      },
      "outputs": [
        {
          "output_type": "stream",
          "name": "stdout",
          "text": [
            "Requirement already satisfied: nltk in /usr/local/lib/python3.10/dist-packages (3.8.1)\n",
            "Collecting nltk\n",
            "  Downloading nltk-3.9.1-py3-none-any.whl.metadata (2.9 kB)\n",
            "Requirement already satisfied: click in /usr/local/lib/python3.10/dist-packages (from nltk) (8.1.7)\n",
            "Requirement already satisfied: joblib in /usr/local/lib/python3.10/dist-packages (from nltk) (1.4.2)\n",
            "Requirement already satisfied: regex>=2021.8.3 in /usr/local/lib/python3.10/dist-packages (from nltk) (2024.9.11)\n",
            "Requirement already satisfied: tqdm in /usr/local/lib/python3.10/dist-packages (from nltk) (4.66.5)\n",
            "Downloading nltk-3.9.1-py3-none-any.whl (1.5 MB)\n",
            "\u001b[2K   \u001b[90m━━━━━━━━━━━━━━━━━━━━━━━━━━━━━━━━━━━━━━━━\u001b[0m \u001b[32m1.5/1.5 MB\u001b[0m \u001b[31m9.7 MB/s\u001b[0m eta \u001b[36m0:00:00\u001b[0m\n",
            "\u001b[?25hInstalling collected packages: nltk\n",
            "  Attempting uninstall: nltk\n",
            "    Found existing installation: nltk 3.8.1\n",
            "    Uninstalling nltk-3.8.1:\n",
            "      Successfully uninstalled nltk-3.8.1\n",
            "Successfully installed nltk-3.9.1\n"
          ]
        }
      ],
      "source": [
        "!pip install --upgrade nltk\n",
        "import nltk\n",
        "from nltk.corpus import brown\n",
        "from nltk import FreqDist, ConditionalFreqDist\n",
        "from nltk.tag import UnigramTagger, BigramTagger, TrigramTagger, brill, hmm\n",
        "from nltk.tag.brill import fntbl37\n",
        "from nltk.tag.brill_trainer import BrillTaggerTrainer\n",
        "from sklearn.model_selection import train_test_split"
      ]
    },
    {
      "cell_type": "code",
      "source": [
        "nltk.download('brown')\n",
        "nltk.download('universal_tagset')"
      ],
      "metadata": {
        "colab": {
          "base_uri": "https://localhost:8080/"
        },
        "id": "G6ZbD0p-3Spo",
        "outputId": "e36afea4-7791-4455-f603-53d64a1a678c"
      },
      "execution_count": 2,
      "outputs": [
        {
          "output_type": "stream",
          "name": "stderr",
          "text": [
            "[nltk_data] Downloading package brown to /root/nltk_data...\n",
            "[nltk_data]   Unzipping corpora/brown.zip.\n",
            "[nltk_data] Downloading package universal_tagset to /root/nltk_data...\n",
            "[nltk_data]   Unzipping taggers/universal_tagset.zip.\n"
          ]
        },
        {
          "output_type": "execute_result",
          "data": {
            "text/plain": [
              "True"
            ]
          },
          "metadata": {},
          "execution_count": 2
        }
      ]
    },
    {
      "cell_type": "code",
      "source": [
        "tagged_sentences = brown.tagged_sents(tagset='universal')\n",
        "train_data, test_data = train_test_split(tagged_sentences, test_size=0.1, random_state=42)\n"
      ],
      "metadata": {
        "id": "h_ILkgRA3UuH"
      },
      "execution_count": 3,
      "outputs": []
    },
    {
      "cell_type": "code",
      "source": [
        "# Étape 1 : Extraction des verbes\n",
        "verbs = [word for sent in train_data for word, tag in sent if tag == 'VERB']"
      ],
      "metadata": {
        "id": "eGs09zoM3X4s"
      },
      "execution_count": 4,
      "outputs": []
    },
    {
      "cell_type": "code",
      "source": [
        "# Étape 2 : Chercher les 10 noms les plus fréquents\n",
        "nouns = [word for sent in train_data for word, tag in sent if tag == 'NOUN']\n",
        "freq_dist_nouns = FreqDist(nouns)\n",
        "top_10_nouns = freq_dist_nouns.most_common(10)"
      ],
      "metadata": {
        "id": "WHhwwKSa3aE8"
      },
      "execution_count": 5,
      "outputs": []
    },
    {
      "cell_type": "code",
      "source": [
        "# Étape 3 : Créer un dictionnaire (mot : étiquette)\n",
        "word_tag_dict = {}\n",
        "for sent in train_data:\n",
        "    for word, tag in sent:\n",
        "        word_tag_dict.setdefault(word.lower(), set()).add(tag)"
      ],
      "metadata": {
        "id": "FCghZ5MW3bBT"
      },
      "execution_count": 6,
      "outputs": []
    },
    {
      "cell_type": "code",
      "source": [
        "# 4.1 Unigram Tagger\n",
        "unigram_tagger = UnigramTagger(train_data)\n",
        "unigram_accuracy = unigram_tagger.evaluate(test_data)"
      ],
      "metadata": {
        "colab": {
          "base_uri": "https://localhost:8080/"
        },
        "id": "cWOGVSqI3a-2",
        "outputId": "85b67b25-9864-41ff-90a5-382e67dd27b2"
      },
      "execution_count": 7,
      "outputs": [
        {
          "output_type": "stream",
          "name": "stderr",
          "text": [
            "<ipython-input-7-37219fe87cb0>:3: DeprecationWarning: \n",
            "  Function evaluate() has been deprecated.  Use accuracy(gold)\n",
            "  instead.\n",
            "  unigram_accuracy = unigram_tagger.evaluate(test_data)\n"
          ]
        }
      ]
    },
    {
      "cell_type": "code",
      "source": [
        "# 4.2 Bigram Tagger\n",
        "bigram_tagger = BigramTagger(train_data, backoff=unigram_tagger)\n",
        "bigram_accuracy = bigram_tagger.evaluate(test_data)"
      ],
      "metadata": {
        "colab": {
          "base_uri": "https://localhost:8080/"
        },
        "id": "YN_SBz2R3a8k",
        "outputId": "7071cff4-cd63-4526-9909-0a4a6df15d2b"
      },
      "execution_count": 8,
      "outputs": [
        {
          "output_type": "stream",
          "name": "stderr",
          "text": [
            "<ipython-input-8-a24e97bfaf8f>:3: DeprecationWarning: \n",
            "  Function evaluate() has been deprecated.  Use accuracy(gold)\n",
            "  instead.\n",
            "  bigram_accuracy = bigram_tagger.evaluate(test_data)\n"
          ]
        }
      ]
    },
    {
      "cell_type": "code",
      "source": [
        "# 4.3 Trigram Tagger\n",
        "trigram_tagger = TrigramTagger(train_data, backoff=bigram_tagger)\n",
        "trigram_accuracy = trigram_tagger.evaluate(test_data)"
      ],
      "metadata": {
        "colab": {
          "base_uri": "https://localhost:8080/"
        },
        "id": "ifsmXhQ-3a6W",
        "outputId": "56dfd2fe-f15e-4e58-d791-2ac43af47a5d"
      },
      "execution_count": 9,
      "outputs": [
        {
          "output_type": "stream",
          "name": "stderr",
          "text": [
            "<ipython-input-9-1c0c3d17e226>:3: DeprecationWarning: \n",
            "  Function evaluate() has been deprecated.  Use accuracy(gold)\n",
            "  instead.\n",
            "  trigram_accuracy = trigram_tagger.evaluate(test_data)\n"
          ]
        }
      ]
    },
    {
      "cell_type": "code",
      "source": [
        "# 4.4 Brill Tagger\n",
        "unigram_tagger = UnigramTagger(train_data)\n",
        "bigram_tagger = BigramTagger(train_data, backoff=unigram_tagger)\n",
        "trigram_tagger = TrigramTagger(train_data, backoff=bigram_tagger)\n",
        "\n",
        "templates = fntbl37()\n",
        "brill_trainer = BrillTaggerTrainer(initial_tagger=trigram_tagger, templates=templates)\n",
        "brill_tagger = brill_trainer.train(train_data)\n",
        "brill_accuracy = brill_tagger.evaluate(test_data)"
      ],
      "metadata": {
        "colab": {
          "base_uri": "https://localhost:8080/"
        },
        "id": "GeJOfLc33a4O",
        "outputId": "4c50ae58-199a-48f2-c46e-0ea1d542555b"
      },
      "execution_count": 10,
      "outputs": [
        {
          "output_type": "stream",
          "name": "stderr",
          "text": [
            "<ipython-input-10-8e9862f2be93>:9: DeprecationWarning: \n",
            "  Function evaluate() has been deprecated.  Use accuracy(gold)\n",
            "  instead.\n",
            "  brill_accuracy = brill_tagger.evaluate(test_data)\n"
          ]
        }
      ]
    },
    {
      "cell_type": "code",
      "source": [
        "# 4.5 Viterbi HMM Tagger\n",
        "hmm_tagger = hmm.HiddenMarkovModelTrainer().train(train_data)\n",
        "hmm_accuracy = hmm_tagger.evaluate(test_data)"
      ],
      "metadata": {
        "colab": {
          "base_uri": "https://localhost:8080/"
        },
        "id": "nqnuc5xU3a1-",
        "outputId": "49cb87ae-9256-46aa-e6d0-089d1939c917"
      },
      "execution_count": 11,
      "outputs": [
        {
          "output_type": "stream",
          "name": "stderr",
          "text": [
            "<ipython-input-11-dc0c349938eb>:3: DeprecationWarning: \n",
            "  Function evaluate() has been deprecated.  Use accuracy(gold)\n",
            "  instead.\n",
            "  hmm_accuracy = hmm_tagger.evaluate(test_data)\n",
            "/usr/local/lib/python3.10/dist-packages/nltk/tag/hmm.py:335: RuntimeWarning: overflow encountered in cast\n",
            "  O[i, k] = self._output_logprob(si, self._symbols[k])\n",
            "/usr/local/lib/python3.10/dist-packages/nltk/tag/hmm.py:363: RuntimeWarning: overflow encountered in cast\n",
            "  O[i, k] = self._output_logprob(si, self._symbols[k])\n"
          ]
        }
      ]
    },
    {
      "cell_type": "code",
      "source": [
        "# Résultats\n",
        "print(\"Les 10 noms les plus fréquents : \", top_10_nouns)\n",
        "print(\"Unigram Tagger Accuracy: \", unigram_accuracy)\n",
        "print(\"Bigram Tagger Accuracy: \", bigram_accuracy)\n",
        "print(\"Trigram Tagger Accuracy: \", trigram_accuracy)\n",
        "print(\"Brill Tagger Accuracy: \", brill_accuracy)\n",
        "print(\"HMM Viterbi Tagger Accuracy: \", hmm_accuracy)"
      ],
      "metadata": {
        "colab": {
          "base_uri": "https://localhost:8080/"
        },
        "id": "qUuL3GhM3azz",
        "outputId": "607766eb-b0c7-4d12-fec1-4b61aa09aa58"
      },
      "execution_count": 12,
      "outputs": [
        {
          "output_type": "stream",
          "name": "stdout",
          "text": [
            "Les 10 noms les plus fréquents :  [('time', 1399), ('man', 1037), ('Af', 910), ('years', 858), ('way', 801), ('Mr.', 760), ('people', 726), ('men', 653), ('world', 629), ('life', 621)]\n",
            "Unigram Tagger Accuracy:  0.9323251120488559\n",
            "Bigram Tagger Accuracy:  0.9402493469277209\n",
            "Trigram Tagger Accuracy:  0.9405114495146734\n",
            "Brill Tagger Accuracy:  0.955958028639076\n",
            "HMM Viterbi Tagger Accuracy:  0.7636708340977992\n"
          ]
        }
      ]
    },
    {
      "cell_type": "code",
      "source": [],
      "metadata": {
        "id": "Mb4lhKZ6AUrC"
      },
      "execution_count": 12,
      "outputs": []
    }
  ]
}